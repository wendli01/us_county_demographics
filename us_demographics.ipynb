{
 "cells": [
  {
   "cell_type": "markdown",
   "metadata": {},
   "source": [
    "# US Demographics Data"
   ]
  },
  {
   "cell_type": "markdown",
   "metadata": {},
   "source": [
    "## Imports"
   ]
  },
  {
   "cell_type": "code",
   "execution_count": null,
   "metadata": {
    "ExecuteTime": {
     "end_time": "2020-05-07T22:45:04.066973Z",
     "start_time": "2020-05-07T22:45:03.093742Z"
    }
   },
   "outputs": [],
   "source": [
    "import pandas as pd\n",
    "import seaborn as sns\n",
    "import ipyleaflet as ipyl\n",
    "import geopandas as gpd\n",
    "import matplotlib\n",
    "import ipywidgets as widgets\n",
    "from ipywidgets import HTML\n",
    "from matplotlib import pyplot as plt\n",
    "import numpy as np\n",
    "from mpl_toolkits.axes_grid1 import make_axes_locatable\n",
    "from mpl_toolkits.axes_grid1.inset_locator import inset_axes\n",
    "from shapely.geometry import Polygon\n",
    "from matplotlib.colors import LogNorm\n",
    "from shapely.geometry import mapping, MultiPolygon, Polygon\n",
    "from branca.colormap import linear, LinearColormap\n",
    "import folium"
   ]
  },
  {
   "cell_type": "markdown",
   "metadata": {},
   "source": [
    "## Load Demographics Data"
   ]
  },
  {
   "cell_type": "markdown",
   "metadata": {},
   "source": [
    "Taken from the National Bureau of Economic Research Census data: \n",
    "\n",
    "https://data.nber.org/census/popest/countypopmonthasrh.csv"
   ]
  },
  {
   "cell_type": "code",
   "execution_count": null,
   "metadata": {
    "ExecuteTime": {
     "end_time": "2020-05-07T22:45:05.849057Z",
     "start_time": "2020-05-07T22:45:04.068350Z"
    }
   },
   "outputs": [],
   "source": [
    "data = pd.read_csv('countypopmonthasrh.csv')"
   ]
  },
  {
   "cell_type": "markdown",
   "metadata": {},
   "source": [
    "## Load County Shapes"
   ]
  },
  {
   "cell_type": "markdown",
   "metadata": {},
   "source": [
    "Taken from the 2017 census TIGER files:\n",
    "\n",
    "https://www2.census.gov/geo/tiger/TIGER2017/COUNTY/tl_2017_us_county.zip"
   ]
  },
  {
   "cell_type": "code",
   "execution_count": null,
   "metadata": {
    "ExecuteTime": {
     "end_time": "2020-05-07T22:45:15.734306Z",
     "start_time": "2020-05-07T22:45:05.850282Z"
    }
   },
   "outputs": [],
   "source": [
    "county_shapes = gpd.read_file('tl_2017_us_county').dropna(subset=['GEOID'])\n",
    "county_shapes.GEOID = county_shapes.GEOID.astype(np.int64)\n",
    "county_shapes.geometry = county_shapes.geometry.simplify(.02)"
   ]
  },
  {
   "cell_type": "code",
   "execution_count": null,
   "metadata": {
    "ExecuteTime": {
     "end_time": "2020-05-07T22:45:15.952418Z",
     "start_time": "2020-05-07T22:45:15.735535Z"
    }
   },
   "outputs": [],
   "source": [
    "data = gpd.GeoDataFrame(data.merge(county_shapes[['GEOID', 'geometry']], left_on='county', right_on='GEOID'))\n",
    "data.crs = county_shapes.crs"
   ]
  },
  {
   "cell_type": "markdown",
   "metadata": {},
   "source": [
    "## Preparing Data for 2016"
   ]
  },
  {
   "cell_type": "code",
   "execution_count": null,
   "metadata": {
    "ExecuteTime": {
     "end_time": "2020-05-07T22:45:18.444315Z",
     "start_time": "2020-05-07T22:45:15.953447Z"
    }
   },
   "outputs": [],
   "source": [
    "data_2016 = data[data.year == 2016]\n",
    "grouped = data_2016.groupby('county')\n",
    "data_2016_agg = gpd.GeoDataFrame(grouped.sum())\n",
    "data_2016_agg['stname'] = grouped.stname.first()\n",
    "data_2016_agg['ctyname'] = grouped.ctyname.first()\n",
    "data_2016_agg['geometry'] = grouped.geometry.first()\n",
    "data_2016_agg.reset_index(inplace=True)\n",
    "data_2016_agg.crs = data.crs\n",
    "\n",
    "data_2016_agg['female_percentage'] = np.round(data_2016_agg.tot_female / data_2016_agg.tot_pop * 100, 2)"
   ]
  },
  {
   "cell_type": "markdown",
   "metadata": {},
   "source": [
    "## Plotting Function"
   ]
  },
  {
   "cell_type": "code",
   "execution_count": null,
   "metadata": {
    "ExecuteTime": {
     "end_time": "2020-05-07T22:45:18.451021Z",
     "start_time": "2020-05-07T22:45:18.445845Z"
    }
   },
   "outputs": [],
   "source": [
    "def bbox_to_polyon(min_x, min_y, max_x, max_y):\n",
    "    return Polygon([(min_x, min_y), (max_x, min_y), (max_x, max_y), (min_x, max_y)])\n",
    "\n",
    "def plot_geo_df(geo_df, value_col, cmap='RdBu', vmin=0, vmax=1, ax=None, cax=None, legend=False,\n",
    "               plot_kwargs = {}):\n",
    "    if ax is None:\n",
    "        fig, ax = plt.subplots()\n",
    "        \n",
    "    if legend and cax is None:\n",
    "        divider = make_axes_locatable(ax)\n",
    "        cax = divider.append_axes(\"right\", size=\"2%\", pad=0.1)\n",
    "\n",
    "    geo_df.plot(value_col, cmap=cmap, vmin=vmin, vmax=vmax, ax=ax, legend=legend, cax=cax, **plot_kwargs)\n",
    "    geo_df.boundary.plot(ax=ax, color='black', linewidth=.25, alpha = .25)\n",
    "    ax.axis('off')"
   ]
  },
  {
   "cell_type": "code",
   "execution_count": null,
   "metadata": {
    "ExecuteTime": {
     "end_time": "2020-05-07T22:45:18.465012Z",
     "start_time": "2020-05-07T22:45:18.452652Z"
    },
    "scrolled": false
   },
   "outputs": [],
   "source": [
    "def plot_us_data(geo_df, column, title, center=50, cmap='RdBu_r', logarithmic = False):\n",
    "    fig, ax1 = plt.subplots(1, figsize=(20,20), dpi=200)\n",
    "    fig.patch.set_facecolor('#f5f5f5'), fig.patch.set_alpha(1)\n",
    "    ax1.set_title(title)\n",
    "    divider = make_axes_locatable(ax1)\n",
    "    cax = divider.append_axes(\"right\", size=\"1.5%\", pad=0.1)\n",
    "    ax2 = inset_axes(ax1, width=\"30%\", height=\"30%\", loc=3)\n",
    "\n",
    "    alaska = geo_df[geo_df.geometry.within(bbox_to_polyon(-179, 50, -125, 72))]\n",
    "    continental_us = geo_df[geo_df.geometry.within(bbox_to_polyon(-126, 23, -66,  50))]\n",
    "\n",
    "    if center is None:\n",
    "        vmin, vmax = geo_df[column].min(), geo_df[column].max()\n",
    "    else:\n",
    "        rng = np.max(np.abs(geo_df[column] - center))\n",
    "        vmin, vmax = center-rng, center+rng\n",
    "    \n",
    "    plot_kwargs = dict(norm=LogNorm(vmin=vmin, vmax=vmax)) if logarithmic else {}\n",
    "    plot_geo_df(continental_us, column, ax=ax1, legend=True, cax=cax, vmin=vmin, vmax=vmax, cmap=cmap,\n",
    "               plot_kwargs=plot_kwargs)\n",
    "    plot_geo_df(alaska, column, ax=ax2, vmin=vmin, vmax=vmax, cmap=cmap,\n",
    "               plot_kwargs=plot_kwargs)"
   ]
  },
  {
   "cell_type": "markdown",
   "metadata": {},
   "source": [
    "## Percentage of female population"
   ]
  },
  {
   "cell_type": "code",
   "execution_count": null,
   "metadata": {
    "ExecuteTime": {
     "end_time": "2020-05-07T22:45:21.027566Z",
     "start_time": "2020-05-07T22:45:18.466245Z"
    }
   },
   "outputs": [],
   "source": [
    "plot_us_data(data_2016_agg, 'female_percentage', 'Percentage of female population in US counties')"
   ]
  },
  {
   "cell_type": "markdown",
   "metadata": {},
   "source": [
    "## Population"
   ]
  },
  {
   "cell_type": "code",
   "execution_count": null,
   "metadata": {
    "ExecuteTime": {
     "end_time": "2020-05-07T22:45:23.567679Z",
     "start_time": "2020-05-07T22:45:21.028608Z"
    }
   },
   "outputs": [],
   "source": [
    "plot_us_data(data_2016_agg, 'tot_pop', 'Population per US county', cmap='viridis', center=None, logarithmic=True)"
   ]
  },
  {
   "cell_type": "markdown",
   "metadata": {},
   "source": [
    "## Interactive"
   ]
  },
  {
   "cell_type": "code",
   "execution_count": null,
   "metadata": {
    "ExecuteTime": {
     "end_time": "2020-05-07T22:45:23.581262Z",
     "start_time": "2020-05-07T22:45:23.568974Z"
    }
   },
   "outputs": [],
   "source": [
    "def get_choropleth_layer(geo_df: gpd.GeoDataFrame, choro_col: str, name_col: str, \n",
    "                         colormap, name: str = '', vmin=0, vmax=1, id_col: str='county'):\n",
    "\n",
    "    def create_geo_data(df: gpd.GeoDataFrame, name_col: str):\n",
    "        return ipyl.GeoData(geo_dataframe=df).data\n",
    "    \n",
    "    def get_style(feature):\n",
    "        return {'fillColor': colormap(feature['properties'][choro_col]), 'color': 'grey', 'weight': .1, \n",
    "                'lineOpacity': .4, 'fillOpacity': .8}\n",
    "    \n",
    "    def get_hover_style(feature):\n",
    "        return {'fillColor': colormap(feature['properties'][choro_col]), \n",
    "                'lineOpacity': 1, 'fillOpacity': 1}\n",
    "\n",
    "    geo_json_data = create_geo_data(geo_df, name_col = name_col)\n",
    "    tooltip=folium.features.GeoJsonTooltip(fields=[name_col, choro_col],\n",
    "            aliases=[name_col.replace('_', ' '), choro_col.replace('_', ' ')])\n",
    "    quantiles = np.quantile(geo_df[choro_col], (0, 0.01, .1, .25, .5, .75, .9, .99, 1))\n",
    "    \n",
    "    layer = folium.GeoJson(ipyl.GeoData(geo_dataframe=geo_df).data, highlight_function=get_hover_style,\n",
    "        name=name, smooth_factor=0, tooltip=tooltip, style_function=get_style\n",
    "    )\n",
    "\n",
    "\n",
    "    return layer\n",
    "\n",
    "def plot_us_data_map(df, choro_column = 'female_percentage', layers_column = 'year', m=None,\n",
    "                    vmin = 0, vmax=1):\n",
    "    if m is None:\n",
    "        m = folium.Map(location=[48, -102], zoom_start=3, control_scale=True)\n",
    "        \n",
    "    colormap = LinearColormap(colors=['darkblue', 'white', 'darkred'], index=[vmin, (vmax+vmin)/2, vmax],\n",
    "                              vmin=vmin,vmax=vmax)\n",
    "        \n",
    "    for layer_val in df[layers_column].unique():\n",
    "        layer_df = df[df[layers_column] == layer_val]\n",
    "        \n",
    "        grouped = layer_df.groupby('county')\n",
    "        layer_df_agg = gpd.GeoDataFrame(grouped.sum())\n",
    "        layer_df_agg['ctyname'] = grouped.ctyname.first()\n",
    "        layer_df_agg['geometry'] = grouped.geometry.first()\n",
    "\n",
    "        layer_df_agg['female_percentage'] = np.round(layer_df_agg.tot_female / layer_df_agg.tot_pop * 100, 2)\n",
    "        \n",
    "        layer_df_agg.crs = df.crs\n",
    "        layer_df_agg.reset_index(inplace=True)\n",
    "        \n",
    "        layer = get_choropleth_layer(layer_df_agg, choro_col=choro_column, name_col = 'ctyname',\n",
    "                                    name = '{} {}'.format(layers_column, layer_val).replace('_', ' '),\n",
    "                                    colormap=colormap, vmin=vmin, vmax=vmax)\n",
    "        layer.show= layer_val == df[layers_column].values[0]\n",
    "        layer.add_to(m)\n",
    "        \n",
    "    m.add_child(colormap)\n",
    "    folium.LayerControl().add_to(m)\n",
    "    \n",
    "    return m"
   ]
  },
  {
   "cell_type": "code",
   "execution_count": null,
   "metadata": {
    "ExecuteTime": {
     "end_time": "2020-05-07T22:45:31.290238Z",
     "start_time": "2020-05-07T22:45:23.582249Z"
    }
   },
   "outputs": [],
   "source": [
    "data_agg_year = data_2016.groupby('county').sum()\n",
    "values = data_agg_year.tot_female / data_agg_year.tot_pop * 100\n",
    "vmin, vmax = values.agg([np.min, np.max]).values\n",
    "rng = np.max(np.abs(values-50))\n",
    "m_2016 = plot_us_data_map(data_2016, vmin=50-rng, vmax=50+rng)"
   ]
  },
  {
   "cell_type": "code",
   "execution_count": null,
   "metadata": {
    "ExecuteTime": {
     "end_time": "2020-05-07T22:45:32.096309Z",
     "start_time": "2020-05-07T22:45:31.291353Z"
    }
   },
   "outputs": [],
   "source": [
    "m_2016.save('gender_balance_2016.html')"
   ]
  },
  {
   "cell_type": "code",
   "execution_count": null,
   "metadata": {
    "ExecuteTime": {
     "end_time": "2020-05-07T22:46:28.925835Z",
     "start_time": "2020-05-07T22:45:32.097557Z"
    }
   },
   "outputs": [],
   "source": [
    "data_agg_year = data.groupby(['county', 'year']).sum()\n",
    "values = data_agg_year.tot_female / data_agg_year.tot_pop * 100\n",
    "vmin, vmax = values.agg([np.min, np.max]).values\n",
    "rng = np.max(np.abs(values-50))\n",
    "m_years = plot_us_data_map(data, vmin=50-rng, vmax=50+rng)"
   ]
  },
  {
   "cell_type": "code",
   "execution_count": null,
   "metadata": {
    "ExecuteTime": {
     "end_time": "2020-05-07T22:46:33.982809Z",
     "start_time": "2020-05-07T22:46:28.926832Z"
    }
   },
   "outputs": [],
   "source": [
    "m_years.save('gender_balance.html')"
   ]
  }
 ],
 "metadata": {
  "kernelspec": {
   "display_name": "Python (data-explorer)",
   "language": "python",
   "name": "data-explorer"
  },
  "language_info": {
   "codemirror_mode": {
    "name": "ipython",
    "version": 3
   },
   "file_extension": ".py",
   "mimetype": "text/x-python",
   "name": "python",
   "nbconvert_exporter": "python",
   "pygments_lexer": "ipython3",
   "version": "3.7.6"
  },
  "toc": {
   "base_numbering": 1,
   "nav_menu": {},
   "number_sections": true,
   "sideBar": true,
   "skip_h1_title": false,
   "title_cell": "Table of Contents",
   "title_sidebar": "Contents",
   "toc_cell": false,
   "toc_position": {},
   "toc_section_display": true,
   "toc_window_display": false
  },
  "varInspector": {
   "cols": {
    "lenName": 16,
    "lenType": 16,
    "lenVar": 40
   },
   "kernels_config": {
    "python": {
     "delete_cmd_postfix": "",
     "delete_cmd_prefix": "del ",
     "library": "var_list.py",
     "varRefreshCmd": "print(var_dic_list())"
    },
    "r": {
     "delete_cmd_postfix": ") ",
     "delete_cmd_prefix": "rm(",
     "library": "var_list.r",
     "varRefreshCmd": "cat(var_dic_list()) "
    }
   },
   "types_to_exclude": [
    "module",
    "function",
    "builtin_function_or_method",
    "instance",
    "_Feature"
   ],
   "window_display": false
  }
 },
 "nbformat": 4,
 "nbformat_minor": 2
}
